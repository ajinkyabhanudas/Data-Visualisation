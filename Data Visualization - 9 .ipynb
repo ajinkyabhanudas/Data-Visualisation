{
 "cells": [
  {
   "cell_type": "markdown",
   "metadata": {},
   "source": [
    "## Data Visualization: Effectiveness, Expressiveness and an Alternate Encoding "
   ]
  },
  {
   "cell_type": "markdown",
   "metadata": {},
   "source": [
    "Visual 9:"
   ]
  },
  {
   "cell_type": "markdown",
   "metadata": {},
   "source": [
    "We'll use the same data as in the previous visuals and try and create a simple new visual"
   ]
  },
  {
   "cell_type": "code",
   "execution_count": 1,
   "metadata": {},
   "outputs": [],
   "source": [
    "import pandas as pd\n",
    "import altair as alt\n",
    "import numpy as np\n",
    "import math"
   ]
  },
  {
   "cell_type": "code",
   "execution_count": 2,
   "metadata": {},
   "outputs": [],
   "source": [
    "tweets = pd.read_csv('assets/tweets.csv')\n",
    "tweets = pd.read_csv('assets/tweets.csv')\n",
    "\n",
    "tweets['emojis'] = tweets['text'].str.findall(r'[^\\w\\s.,\"@\\'?/#!$%\\^&\\*;:{}=\\-_`~()\\U0001F1E6-\\U0001F1FF]').str.len()\n",
    "\n",
    "boxer_emojis = ['☘️','🇮🇪','🍀','💸','🤑','💰','💵','😴','😂','🤣','🥊','👊','👏','🇮🇪','💪','🔥','😭','💰']\n",
    "for emoji in boxer_emojis:\n",
    "    tweets[emoji] = tweets.text.str.count(emoji)\n",
    "    \n",
    "tweets['irish_pride'] = tweets['☘️'] + tweets['🇮🇪'] + tweets['🍀']\n",
    "tweets['money_team'] = tweets['💸'] + tweets['🤑'] + tweets['💰'] +  tweets['💵']\n",
    "tweets['datetime'] = pd.to_datetime(tweets['created_at'])\n",
    "tweets = tweets.set_index('datetime')\n",
    "\n",
    "\n",
    "teams = tweets.copy()\n",
    "teams = teams.resample('1s').sum()\n",
    "teams  = teams[(teams['💸']>0) | (teams['🤑']>0) | (teams['💰']>0) | (teams['💵']>0) | (teams['☘️']>0) | (teams['🍀']>0) | (teams['🇮🇪']>0) ]\n",
    "\n",
    "mdf = teams['money_team'].rolling('4Min').mean().reset_index()\n",
    "mdf['team'] = '💸🤑💰💵'\n",
    "mdf = mdf.rename(columns={'money_team':'tweet_count'})\n",
    "\n",
    "idf = teams['irish_pride'].rolling('4Min').mean().reset_index()\n",
    "idf['team'] = '☘️🍀🇮🇪'\n",
    "idf = idf.rename(columns={'irish_pride':'tweet_count'})\n",
    "\n",
    "ndf = pd.concat([mdf,idf])"
   ]
  },
  {
   "cell_type": "code",
   "execution_count": 3,
   "metadata": {},
   "outputs": [],
   "source": [
    "annotations = [['2017-08-27 00:15:00',4, 'Fight begins'],\n",
    "               ['2017-08-27 00:22:00',5, 'McGregor does OK \\nin the early rounds'],\n",
    "               ['2017-08-27 00:53:00',4, 'Mayweather takes \\nover and wins by \\nTKO']]\n",
    "a_df = pd.DataFrame(annotations, columns=['date','count','note'])\n",
    "a_df['date'] = pd.to_datetime(a_df['date'])"
   ]
  },
  {
   "cell_type": "code",
   "execution_count": 6,
   "metadata": {},
   "outputs": [
    {
     "data": {
      "text/html": [
       "\n",
       "<div id=\"altair-viz-3f634b9b38ed41d88788e3883ecf55cd\"></div>\n",
       "<script type=\"text/javascript\">\n",
       "  (function(spec, embedOpt){\n",
       "    const outputDiv = document.getElementById(\"altair-viz-3f634b9b38ed41d88788e3883ecf55cd\");\n",
       "    const paths = {\n",
       "      \"vega\": \"https://cdn.jsdelivr.net/npm//vega@5?noext\",\n",
       "      \"vega-lib\": \"https://cdn.jsdelivr.net/npm//vega-lib?noext\",\n",
       "      \"vega-lite\": \"https://cdn.jsdelivr.net/npm//vega-lite@4.0.2?noext\",\n",
       "      \"vega-embed\": \"https://cdn.jsdelivr.net/npm//vega-embed@6?noext\",\n",
       "    };\n",
       "\n",
       "    function loadScript(lib) {\n",
       "      return new Promise(function(resolve, reject) {\n",
       "        var s = document.createElement('script');\n",
       "        s.src = paths[lib];\n",
       "        s.async = true;\n",
       "        s.onload = () => resolve(paths[lib]);\n",
       "        s.onerror = () => reject(`Error loading script: ${paths[lib]}`);\n",
       "        document.getElementsByTagName(\"head\")[0].appendChild(s);\n",
       "      });\n",
       "    }\n",
       "\n",
       "    function showError(err) {\n",
       "      outputDiv.innerHTML = `<div class=\"error\" style=\"color:red;\">${err}</div>`;\n",
       "      throw err;\n",
       "    }\n",
       "\n",
       "    function displayChart(vegaEmbed) {\n",
       "      vegaEmbed(outputDiv, spec, embedOpt)\n",
       "        .catch(err => showError(`Javascript Error: ${err.message}<br>This usually means there's a typo in your chart specification. See the javascript console for the full traceback.`));\n",
       "    }\n",
       "\n",
       "    if(typeof define === \"function\" && define.amd) {\n",
       "      requirejs.config({paths});\n",
       "      require([\"vega-embed\"], displayChart, err => showError(`Error loading script: ${err.message}`));\n",
       "    } else if (typeof vegaEmbed === \"function\") {\n",
       "      displayChart(vegaEmbed);\n",
       "    } else {\n",
       "      loadScript(\"vega\")\n",
       "        .then(() => loadScript(\"vega-lite\"))\n",
       "        .then(() => loadScript(\"vega-embed\"))\n",
       "        .catch(showError)\n",
       "        .then(() => displayChart(vegaEmbed));\n",
       "    }\n",
       "  })({\"usermeta\": {\"embedOptions\": {\"theme\": \"fivethirtyeight\"}}, \"config\": {\"view\": {\"continuousWidth\": 400, \"continuousHeight\": 300, \"strokeOpacity\": 0, \"strokeWidth\": 0}, \"axis\": {\"labelFontSize\": 11, \"titleFontSize\": 20}, \"legend\": {\"labelFontSize\": 20}, \"mark\": {\"color\": \"#008fd5\"}, \"scale\": {\"bandPaddingInner\": 0.2}}, \"data\": {\"name\": \"data-503b325c0f4f560363630f03968df338\"}, \"mark\": {\"type\": \"bar\", \"strokeWidth\": 0}, \"encoding\": {\"color\": {\"type\": \"nominal\", \"field\": \"variable\", \"scale\": {\"range\": [\"green\", \"#ff9900\"]}, \"title\": null}, \"column\": {\"type\": \"nominal\", \"field\": \"emoji\", \"header\": {\"labelFontSize\": 20, \"title\": \"\"}}, \"x\": {\"type\": \"nominal\", \"axis\": {\"domain\": false, \"gridOpacity\": 0, \"labels\": false, \"ticks\": false}, \"field\": \"variable\", \"title\": null}, \"y\": {\"type\": \"quantitative\", \"axis\": {\"domain\": false, \"gridOpacity\": 0, \"ticks\": true}, \"field\": \"value\", \"title\": null}}, \"title\": {\"text\": \"Irish Pride VS The Money Team: Emoji War\", \"subtitle\": [\"Which team dominated the emoji battle?\"], \"subtitleColor\": \"black\", \"subtitleFontSize\": 18}, \"$schema\": \"https://vega.github.io/schema/vega-lite/v4.0.2.json\", \"datasets\": {\"data-503b325c0f4f560363630f03968df338\": [{\"emoji\": \"\\ud83d\\ude34\", \"variable\": \"McGregor\", \"value\": 2.0751761942051683}, {\"emoji\": \"\\ud83d\\ude02\", \"variable\": \"McGregor\", \"value\": 49.64761158966327}, {\"emoji\": \"\\ud83e\\udd23\", \"variable\": \"McGregor\", \"value\": 4.639780736100235}, {\"emoji\": \"\\ud83e\\udd4a\", \"variable\": \"McGregor\", \"value\": 13.527799530148787}, {\"emoji\": \"\\ud83d\\udc4a\", \"variable\": \"McGregor\", \"value\": 9.57321848081441}, {\"emoji\": \"\\ud83d\\udc4f\", \"variable\": \"McGregor\", \"value\": 6.695379796397807}, {\"emoji\": \"\\ud83d\\udd25\", \"variable\": \"McGregor\", \"value\": 7.1456538762725135}, {\"emoji\": \"\\ud83d\\ude2d\", \"variable\": \"McGregor\", \"value\": 4.561472200469851}, {\"emoji\": \"\\ud83d\\ude34\", \"variable\": \"Mayweather\", \"value\": 1.6256808054134344}, {\"emoji\": \"\\ud83d\\ude02\", \"variable\": \"Mayweather\", \"value\": 59.44050173295924}, {\"emoji\": \"\\ud83e\\udd23\", \"variable\": \"Mayweather\", \"value\": 5.817791714804423}, {\"emoji\": \"\\ud83e\\udd4a\", \"variable\": \"Mayweather\", \"value\": 14.548605380425814}, {\"emoji\": \"\\ud83d\\udc4a\", \"variable\": \"Mayweather\", \"value\": 8.887605215382075}, {\"emoji\": \"\\ud83d\\udc4f\", \"variable\": \"Mayweather\", \"value\": 6.477966661165209}, {\"emoji\": \"\\ud83d\\udd25\", \"variable\": \"Mayweather\", \"value\": 5.97458326456511}, {\"emoji\": \"\\ud83d\\ude2d\", \"variable\": \"Mayweather\", \"value\": 5.132860207955108}]}}, {\"mode\": \"vega-lite\"});\n",
       "</script>"
      ],
      "text/plain": [
       "alt.Chart(...)"
      ]
     },
     "execution_count": 6,
     "metadata": {},
     "output_type": "execute_result"
    }
   ],
   "source": [
    "tweets['money'] = tweets['text'].str.findall(r'[\\U0001f911\\U0001f4b0\\U0001f4b8]*([^\\#]+([Ff]+(loyd|LOYD)+)|([Mm]+(ayweather|AYTHER)+))*').str.len()\n",
    "tweets['irish'] = tweets['text'].str.findall(r'[\\U0001f1ee\\U0001f340]*([^r]+([Cc]+onor+)|([Mm]+.(gregor|GREGOR)+))').str.len()\n",
    "\n",
    "tweets.shape\n",
    "\n",
    "use_irish = tweets[tweets['irish']>0]\n",
    "use_money = tweets[tweets['money']>0]\n",
    "\n",
    "use_irish.columns\n",
    "\n",
    "use_money.columns\n",
    "\n",
    "use_irish['😴'].sum()/len(use_irish),use_money['😴'].sum()/len(use_money)\n",
    "\n",
    "use_irish['😂'].sum()/len(use_irish),use_money['😂'].sum()/len(use_money)\n",
    "\n",
    "use_irish['🤣'].sum()/len(use_irish),use_money['🤣'].sum()/len(use_money)\n",
    "\n",
    "use_irish['🥊'].sum()/len(use_irish),use_money['🥊'].sum()/len(use_money)\n",
    "\n",
    "use_irish['👊'].sum()/len(use_irish),use_money['👊'].sum()/len(use_money)\n",
    "\n",
    "use_irish['👏'].sum()/len(use_irish),use_money['👏'].sum()/len(use_money)\n",
    "\n",
    "use_irish['💪'].sum()/len(use_irish),use_money['💪'].sum()/len(use_money)\n",
    "\n",
    "use_irish['🔥'].sum()/len(use_irish),use_money['🔥'].sum()/len(use_money)\n",
    "\n",
    "use_irish['😭'].sum()/len(use_irish),use_money['😭'].sum()/len(use_money)\n",
    "\n",
    "f1 = pd.DataFrame([['😴',use_irish['😴'].sum()/len(use_irish),use_money['😴'].sum()/len(use_money)],['😂',use_irish['😂'].sum()/len(use_irish),use_money['😂'].sum()/len(use_money)],['🤣',use_irish['🤣'].sum()/len(use_irish),use_money['🤣'].sum()/len(use_money)],['🥊',use_irish['🥊'].sum()/len(use_irish),use_money['🥊'].sum()/len(use_money)],['👊',use_irish['👊'].sum()/len(use_irish),use_money['👊'].sum()/len(use_money)],['👏',use_irish['👏'].sum()/len(use_irish),use_money['💪'].sum()/len(use_money)],['🔥',use_irish['🔥'].sum()/len(use_irish),use_money['🔥'].sum()/len(use_money)],['😭',use_irish['😭'].sum()/len(use_irish),use_money['😭'].sum()/len(use_money)]],columns=['emoji','McGregor','Mayweather'])\n",
    "\n",
    "x=f1.melt(id_vars=['emoji'])\n",
    "x['value']=x.value*100\n",
    "\n",
    "inter = alt.Chart(x).mark_bar(strokeWidth=0).encode(\n",
    "    x=alt.X('variable',axis=alt.Axis(ticks=False,labels=False,gridOpacity=0,domain=False),title=None),\n",
    "    y=alt.Y('value',axis=alt.Axis(ticks=True,gridOpacity=0, domain=False),title=None),\n",
    "    color=alt.Color('variable:N',scale=alt.Scale(range=[ 'green','#ff9900']),title=None),\n",
    "    column=alt.Column('emoji:N',header=alt.Header(labelFontSize=20,title=''))\n",
    ")\n",
    "\n",
    "\n",
    "(inter).configure_mark(\n",
    "    color='#008fd5'\n",
    ").configure_view(\n",
    "    strokeWidth=0,\n",
    "    strokeOpacity=0\n",
    ").properties(\n",
    "    title={\"text\":\"Irish Pride VS The Money Team: Emoji War\",\n",
    "           \n",
    "           \"subtitle\":[\"Which team dominated the emoji battle?\"],\n",
    "           \"subtitleColor\": \"black\",\n",
    "           \"subtitleFontSize\":18\n",
    "          }).configure_scale(\n",
    "    bandPaddingInner=0.2\n",
    ").configure_axis(\n",
    "    labelFontSize=11,\n",
    "    titleFontSize=20,    \n",
    ").configure_legend(\n",
    "                   \n",
    "                    labelFontSize=20\n",
    "                   \n",
    "                  )"
   ]
  },
  {
   "cell_type": "markdown",
   "metadata": {},
   "source": [
    "![2.6](assets/2pt6.png)"
   ]
  },
  {
   "cell_type": "markdown",
   "metadata": {},
   "source": [
    "Perception and Cognition:\n",
    "- The visual is simple and concise. (large bars would violate the data-ink ratio but they are more easier to read than their stripped down version. It's okay to violate the principle in this case.)\n",
    "- The visual processing time is quick.\n",
    "- The encoding in unabiguious, there isn't any presence of double encoding for the 2 categories being compared.\n",
    "- Considering Weber's law and the perception of difference, that is a minor challenge in this case. There is no way for the viewer to know the exact percentage associated to each bar. Even when there is a real difference, the stats corresponding to the clap emoji are indistinguishable. This drastically increases the time to perceive, and then to map it appropriately. In this case, the viewer can't perceive differences throughout the graph even if she/he wanted to.\n",
    "- Bars do a good job at maintaining the integrity of the information being conveyed without it being altered.\n",
    "- Adding percentages to the bars would help.\n",
    "- Finally, to address effectiveness, if the viewer wanted to know for exactly how many emojis a particular team was ahead on, due to all shortcomings in perception and interpretation, this visual would be low on effectiveness too."
   ]
  }
 ],
 "metadata": {
  "kernelspec": {
   "display_name": "Python 3",
   "language": "python",
   "name": "python3"
  },
  "language_info": {
   "codemirror_mode": {
    "name": "ipython",
    "version": 3
   },
   "file_extension": ".py",
   "mimetype": "text/x-python",
   "name": "python",
   "nbconvert_exporter": "python",
   "pygments_lexer": "ipython3",
   "version": "3.7.3"
  }
 },
 "nbformat": 4,
 "nbformat_minor": 2
}
