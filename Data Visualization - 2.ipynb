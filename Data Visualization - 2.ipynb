{
 "cells": [
  {
   "cell_type": "markdown",
   "metadata": {},
   "source": [
    "## Data Visualization: Effectiveness, Expressiveness and an Alternate Ecnoding "
   ]
  },
  {
   "cell_type": "markdown",
   "metadata": {},
   "source": [
    "Visual 2:"
   ]
  },
  {
   "cell_type": "markdown",
   "metadata": {},
   "source": [
    "![\"Viz\"](assets/have_seen_resized.png)"
   ]
  },
  {
   "cell_type": "markdown",
   "metadata": {},
   "source": [
    "We'll try to focus on the achieving a similar or better level of effectveness and shall create a synthetic dataset for the purpose of generating the visual"
   ]
  },
  {
   "cell_type": "code",
   "execution_count": 3,
   "metadata": {},
   "outputs": [],
   "source": [
    "import pandas as pd\n",
    "import altair as alt\n",
    "import numpy as np\n",
    "import math"
   ]
  },
  {
   "cell_type": "code",
   "execution_count": 8,
   "metadata": {},
   "outputs": [],
   "source": [
    "sw = pd.read_csv('assets/StarWars.csv', encoding='latin1')"
   ]
  },
  {
   "cell_type": "code",
   "execution_count": 9,
   "metadata": {},
   "outputs": [],
   "source": [
    "sw = sw.rename(columns={'Have you seen any of the 6 films in the Star Wars franchise?':'seen_any_movie',\n",
    "                        'Do you consider yourself to be a fan of the Star Wars film franchise?': 'fan',\n",
    "                        'Which of the following Star Wars films have you seen? Please select all that apply.' : 'seen_EI',\n",
    "                        'Unnamed: 4' : 'seen_EII',\n",
    "                        'Unnamed: 5' : 'seen_EIII',\n",
    "                        'Unnamed: 6' : 'seen_EIV',\n",
    "                        'Unnamed: 7' : 'seen_EV',\n",
    "                        'Unnamed: 8' : 'seen_EVI',\n",
    "                        'Please rank the Star Wars films in order of preference with 1 being your favorite film in the franchise and 6 being your least favorite film.' : 'rank_EI',\n",
    "                        'Unnamed: 10' : 'rank_EII',\n",
    "                        'Unnamed: 11' : 'rank_EIII',\n",
    "                        'Unnamed: 12' : 'rank_EIV',\n",
    "                        'Unnamed: 13' : 'rank_EV',\n",
    "                        'Unnamed: 14' : 'rank_EVI',\n",
    "                        'Please state whether you view the following characters favorably, unfavorably, or are unfamiliar with him/her.' : 'Han Solo',\n",
    "                        'Unnamed: 16' : 'Luke Skywalker',\n",
    "                        'Unnamed: 17' : 'Princess Leia Organa',\n",
    "                        'Unnamed: 18' : 'Anakin Skywalker',\n",
    "                        'Unnamed: 19' : 'Obi Wan Kenobi',\n",
    "                        'Unnamed: 20' : 'Emperor Palpatine',\n",
    "                        'Unnamed: 21' : 'Darth Vader',\n",
    "                        'Unnamed: 22' : 'Lando Calrissian',\n",
    "                        'Unnamed: 23' : 'Boba Fett',\n",
    "                        'Unnamed: 24' : 'C-3P0',\n",
    "                        'Unnamed: 25' : 'R2 D2',\n",
    "                        'Unnamed: 26' : 'Jar Jar Binks',\n",
    "                        'Unnamed: 27' : 'Padme Amidala',\n",
    "                        'Unnamed: 28' : 'Yoda',\n",
    "                       })\n",
    "sw = sw.drop([0])"
   ]
  },
  {
   "cell_type": "code",
   "execution_count": 10,
   "metadata": {},
   "outputs": [
    {
     "name": "stdout",
     "output_type": "stream",
     "text": [
      "sort order:  ['The Phantom Meanance', 'Attack of the clones', 'Revenge of the Sith', 'A New Hope', 'The Empire Strikes Back', 'The Return of the Jedi']\n"
     ]
    }
   ],
   "source": [
    "episodes = ['EI', 'EII', 'EIII', 'EIV', 'EV', 'EVI']\n",
    "names = {\n",
    "    'EI' : 'The Phantom Meanance', 'EII' : 'Attack of the clones', 'EIII' : 'Revenge of the Sith', \n",
    "    'EIV': 'A New Hope', 'EV': 'The Empire Strikes Back', 'EVI' : 'The Return of the Jedi'\n",
    "}\n",
    "\n",
    "names_l = [names[ep] for ep in episodes]\n",
    "\n",
    "print(\"sort order: \",names_l)"
   ]
  },
  {
   "cell_type": "code",
   "execution_count": 11,
   "metadata": {},
   "outputs": [],
   "source": [
    "seen_at_least_one = sw.dropna(subset=['seen_' + ep for ep in episodes],how='all')\n",
    "total = len(seen_at_least_one)"
   ]
  },
  {
   "cell_type": "code",
   "execution_count": 17,
   "metadata": {},
   "outputs": [
    {
     "data": {
      "text/html": [
       "<div>\n",
       "<style scoped>\n",
       "    .dataframe tbody tr th:only-of-type {\n",
       "        vertical-align: middle;\n",
       "    }\n",
       "\n",
       "    .dataframe tbody tr th {\n",
       "        vertical-align: top;\n",
       "    }\n",
       "\n",
       "    .dataframe thead th {\n",
       "        text-align: right;\n",
       "    }\n",
       "</style>\n",
       "<table border=\"1\" class=\"dataframe\">\n",
       "  <thead>\n",
       "    <tr style=\"text-align: right;\">\n",
       "      <th></th>\n",
       "      <th>Name</th>\n",
       "      <th>Percentage</th>\n",
       "    </tr>\n",
       "  </thead>\n",
       "  <tbody>\n",
       "    <tr>\n",
       "      <th>0</th>\n",
       "      <td>The Phantom Meanance</td>\n",
       "      <td>0.81</td>\n",
       "    </tr>\n",
       "    <tr>\n",
       "      <th>1</th>\n",
       "      <td>Attack of the clones</td>\n",
       "      <td>0.68</td>\n",
       "    </tr>\n",
       "    <tr>\n",
       "      <th>2</th>\n",
       "      <td>Revenge of the Sith</td>\n",
       "      <td>0.66</td>\n",
       "    </tr>\n",
       "    <tr>\n",
       "      <th>3</th>\n",
       "      <td>A New Hope</td>\n",
       "      <td>0.73</td>\n",
       "    </tr>\n",
       "    <tr>\n",
       "      <th>4</th>\n",
       "      <td>The Empire Strikes Back</td>\n",
       "      <td>0.91</td>\n",
       "    </tr>\n",
       "    <tr>\n",
       "      <th>5</th>\n",
       "      <td>The Return of the Jedi</td>\n",
       "      <td>0.88</td>\n",
       "    </tr>\n",
       "  </tbody>\n",
       "</table>\n",
       "</div>"
      ],
      "text/plain": [
       "                      Name  Percentage\n",
       "0     The Phantom Meanance        0.81\n",
       "1     Attack of the clones        0.68\n",
       "2      Revenge of the Sith        0.66\n",
       "3               A New Hope        0.73\n",
       "4  The Empire Strikes Back        0.91\n",
       "5   The Return of the Jedi        0.88"
      ]
     },
     "execution_count": 17,
     "metadata": {},
     "output_type": "execute_result"
    }
   ],
   "source": [
    "percs = []\n",
    "\n",
    "for seen_ep in ['seen_' + ep for ep in episodes]:\n",
    "    perc = len(seen_at_least_one[~ pd.isna(seen_at_least_one[seen_ep])]) / total\n",
    "    percs.append(perc)\n",
    "    \n",
    "tuples = list(zip([names[ep] for ep in episodes],percs))\n",
    "seen_per_df = pd.DataFrame(tuples, columns = ['Name', 'Percentage'])\n",
    "seen_per_df.Percentage = seen_per_df.Percentage.apply(lambda x:np.round(x,2))\n",
    "seen_per_df"
   ]
  },
  {
   "cell_type": "code",
   "execution_count": 4,
   "metadata": {},
   "outputs": [
    {
     "data": {
      "text/html": [
       "<div>\n",
       "<style scoped>\n",
       "    .dataframe tbody tr th:only-of-type {\n",
       "        vertical-align: middle;\n",
       "    }\n",
       "\n",
       "    .dataframe tbody tr th {\n",
       "        vertical-align: top;\n",
       "    }\n",
       "\n",
       "    .dataframe thead th {\n",
       "        text-align: right;\n",
       "    }\n",
       "</style>\n",
       "<table border=\"1\" class=\"dataframe\">\n",
       "  <thead>\n",
       "    <tr style=\"text-align: right;\">\n",
       "      <th></th>\n",
       "      <th>Movie Names</th>\n",
       "      <th>View perc</th>\n",
       "    </tr>\n",
       "  </thead>\n",
       "  <tbody>\n",
       "    <tr>\n",
       "      <th>0</th>\n",
       "      <td>The Phantom Menace</td>\n",
       "      <td>0.80</td>\n",
       "    </tr>\n",
       "    <tr>\n",
       "      <th>1</th>\n",
       "      <td>Attack of the Clones</td>\n",
       "      <td>0.68</td>\n",
       "    </tr>\n",
       "    <tr>\n",
       "      <th>2</th>\n",
       "      <td>Revenge of the Sith</td>\n",
       "      <td>0.66</td>\n",
       "    </tr>\n",
       "    <tr>\n",
       "      <th>3</th>\n",
       "      <td>A New Hope</td>\n",
       "      <td>0.73</td>\n",
       "    </tr>\n",
       "    <tr>\n",
       "      <th>4</th>\n",
       "      <td>The Empire Strikes Back</td>\n",
       "      <td>0.91</td>\n",
       "    </tr>\n",
       "    <tr>\n",
       "      <th>5</th>\n",
       "      <td>Return of the Jedi</td>\n",
       "      <td>0.88</td>\n",
       "    </tr>\n",
       "  </tbody>\n",
       "</table>\n",
       "</div>"
      ],
      "text/plain": [
       "               Movie Names  View perc\n",
       "0       The Phantom Menace       0.80\n",
       "1     Attack of the Clones       0.68\n",
       "2      Revenge of the Sith       0.66\n",
       "3               A New Hope       0.73\n",
       "4  The Empire Strikes Back       0.91\n",
       "5       Return of the Jedi       0.88"
      ]
     },
     "execution_count": 4,
     "metadata": {},
     "output_type": "execute_result"
    }
   ],
   "source": [
    "df = pd.DataFrame([['The Phantom Menace',.80],['Attack of the Clones',.68],['Revenge of the Sith',.66],['A New Hope',.73],['The Empire Strikes Back',.91],['Return of the Jedi',.88]],columns=['Movie Names','View perc'])\n",
    "df"
   ]
  },
  {
   "cell_type": "code",
   "execution_count": 19,
   "metadata": {},
   "outputs": [
    {
     "data": {
      "text/html": [
       "\n",
       "<div id=\"altair-viz-1e190024f921473ea1979f2ce6503fc2\"></div>\n",
       "<script type=\"text/javascript\">\n",
       "  (function(spec, embedOpt){\n",
       "    const outputDiv = document.getElementById(\"altair-viz-1e190024f921473ea1979f2ce6503fc2\");\n",
       "    const paths = {\n",
       "      \"vega\": \"https://cdn.jsdelivr.net/npm//vega@5?noext\",\n",
       "      \"vega-lib\": \"https://cdn.jsdelivr.net/npm//vega-lib?noext\",\n",
       "      \"vega-lite\": \"https://cdn.jsdelivr.net/npm//vega-lite@4.0.2?noext\",\n",
       "      \"vega-embed\": \"https://cdn.jsdelivr.net/npm//vega-embed@6?noext\",\n",
       "    };\n",
       "\n",
       "    function loadScript(lib) {\n",
       "      return new Promise(function(resolve, reject) {\n",
       "        var s = document.createElement('script');\n",
       "        s.src = paths[lib];\n",
       "        s.async = true;\n",
       "        s.onload = () => resolve(paths[lib]);\n",
       "        s.onerror = () => reject(`Error loading script: ${paths[lib]}`);\n",
       "        document.getElementsByTagName(\"head\")[0].appendChild(s);\n",
       "      });\n",
       "    }\n",
       "\n",
       "    function showError(err) {\n",
       "      outputDiv.innerHTML = `<div class=\"error\" style=\"color:red;\">${err}</div>`;\n",
       "      throw err;\n",
       "    }\n",
       "\n",
       "    function displayChart(vegaEmbed) {\n",
       "      vegaEmbed(outputDiv, spec, embedOpt)\n",
       "        .catch(err => showError(`Javascript Error: ${err.message}<br>This usually means there's a typo in your chart specification. See the javascript console for the full traceback.`));\n",
       "    }\n",
       "\n",
       "    if(typeof define === \"function\" && define.amd) {\n",
       "      requirejs.config({paths});\n",
       "      require([\"vega-embed\"], displayChart, err => showError(`Error loading script: ${err.message}`));\n",
       "    } else if (typeof vegaEmbed === \"function\") {\n",
       "      displayChart(vegaEmbed);\n",
       "    } else {\n",
       "      loadScript(\"vega\")\n",
       "        .then(() => loadScript(\"vega-lite\"))\n",
       "        .then(() => loadScript(\"vega-embed\"))\n",
       "        .catch(showError)\n",
       "        .then(() => displayChart(vegaEmbed));\n",
       "    }\n",
       "  })({\"config\": {\"view\": {\"continuousWidth\": 400, \"continuousHeight\": 300}}, \"layer\": [{\"mark\": {\"type\": \"bar\", \"color\": \"grey\"}, \"encoding\": {\"x\": {\"type\": \"quantitative\", \"axis\": {\"labels\": false, \"ticks\": false}, \"field\": \"Percentage\", \"title\": null}, \"y\": {\"type\": \"nominal\", \"axis\": {\"labels\": false, \"ticks\": false}, \"field\": \"Name\", \"sort\": \"-x\", \"stack\": \"zero\", \"title\": null}}, \"height\": 250, \"transform\": [{\"window\": [{\"op\": \"rank\", \"field\": \"Percentage\", \"as\": \"rank\"}], \"sort\": [{\"field\": \"Percentage\", \"order\": \"descending\"}]}]}, {\"mark\": {\"type\": \"text\", \"align\": \"right\", \"color\": \"white\", \"dx\": -15, \"dy\": 3, \"fontSize\": 15, \"fontWeight\": \"bold\"}, \"encoding\": {\"text\": {\"type\": \"nominal\", \"field\": \"Name\"}, \"x\": {\"type\": \"quantitative\", \"field\": \"Percentage\"}, \"y\": {\"type\": \"nominal\", \"field\": \"Name\", \"sort\": \"-x\", \"stack\": \"zero\"}}, \"transform\": [{\"window\": [{\"op\": \"rank\", \"field\": \"Percentage\", \"as\": \"rank\"}], \"sort\": [{\"field\": \"Percentage\", \"order\": \"descending\"}]}]}, {\"mark\": {\"type\": \"text\", \"align\": \"left\", \"baseline\": \"middle\", \"color\": \"grey\", \"dx\": 3, \"fontSize\": 16, \"fontWeight\": \"bold\"}, \"encoding\": {\"text\": {\"type\": \"quantitative\", \"field\": \"Percentage\", \"format\": \"1.0%\"}, \"x\": {\"type\": \"quantitative\", \"field\": \"Percentage\"}, \"y\": {\"type\": \"nominal\", \"field\": \"Name\", \"sort\": \"-x\", \"stack\": \"zero\"}}, \"transform\": [{\"window\": [{\"op\": \"rank\", \"field\": \"Percentage\", \"as\": \"rank\"}], \"sort\": [{\"field\": \"Percentage\", \"order\": \"descending\"}]}]}], \"data\": {\"name\": \"data-74192f4fb42f6208aaed025d77f4e425\"}, \"$schema\": \"https://vega.github.io/schema/vega-lite/v4.0.2.json\", \"datasets\": {\"data-74192f4fb42f6208aaed025d77f4e425\": [{\"Name\": \"The Phantom Meanance\", \"Percentage\": 0.81}, {\"Name\": \"Attack of the clones\", \"Percentage\": 0.68}, {\"Name\": \"Revenge of the Sith\", \"Percentage\": 0.66}, {\"Name\": \"A New Hope\", \"Percentage\": 0.73}, {\"Name\": \"The Empire Strikes Back\", \"Percentage\": 0.91}, {\"Name\": \"The Return of the Jedi\", \"Percentage\": 0.88}]}}, {\"mode\": \"vega-lite\"});\n",
       "</script>"
      ],
      "text/plain": [
       "alt.LayerChart(...)"
      ]
     },
     "execution_count": 19,
     "metadata": {},
     "output_type": "execute_result"
    }
   ],
   "source": [
    "a1=alt.Chart(seen_per_df).mark_bar(color='grey').encode(\n",
    "    y=alt.Y('Name',sort='-x',stack='zero',axis=alt.Axis(labels=False,ticks=False),title=None),\n",
    "    x=alt.X('Percentage',axis=alt.Axis(labels=False,ticks=False),title=None)\n",
    ").transform_window(\n",
    "    rank='rank(Percentage)',\n",
    "    sort=[alt.SortField('Percentage', order='descending')]\n",
    ").properties(height=250)\n",
    "\n",
    "text = alt.Chart(seen_per_df).mark_text(dx=-15, dy=3, color='white',align='right',fontWeight='bold',fontSize=15).encode(\n",
    "    y=alt.Y('Name', stack='zero',sort='-x'),\n",
    "    x=alt.X('Percentage'),\n",
    "    text=alt.Text('Name')\n",
    ").transform_window(\n",
    "    rank='rank(Percentage)',\n",
    "    sort=[alt.SortField('Percentage', order='descending')]\n",
    ")\n",
    "text2 = alt.Chart(seen_per_df).mark_text(color='grey',fontWeight='bold', fontSize=16,\n",
    "    align='left',\n",
    "    baseline='middle',\n",
    "    dx=3  # Nudges text to right so it doesn't appear on top of the bar\n",
    ").encode(\n",
    "    y=alt.Y('Name', stack='zero',sort='-x'),\n",
    "    x=alt.X('Percentage'),\n",
    "    text=alt.Text('Percentage:Q',\n",
    "    format='1.0%')).transform_window(\n",
    "    rank='rank(Percentage)',\n",
    "    sort=[alt.SortField('Percentage', order='descending')]\n",
    ")\n",
    "\n",
    "a1+text+text2"
   ]
  },
  {
   "cell_type": "markdown",
   "metadata": {},
   "source": [
    "![1.2](assets/1pt_2.png)\n",
    "\n",
    "1. In the fivethirtyeight viz there is no ordering while in the alternative visual there is.\n",
    "    - the benefit of ordering the bars is that they instantly show the hierarchy to the eye for values that might be closer to easily distinguish.\n",
    "    - With the percentages present it does solve that in a way but, if we show numbers it might be better to order them for a quicker visual understanding.\n",
    "2. The distance between the movie names and the percentages.\n",
    "    - This is important when we want to compare movies with eachother as one has to go back and forth from the percentage to the movie name, store it in the mind, move down to the next movie and repeat.\n",
    "    - I personally felt that having the percentages helped me evaluate one movie against another much faster.(eyes don't have to travel as much)\n",
    "\n",
    "- The created viz would do better on preattentive process.\n",
    "- Both maintain simplicity (Law of Prägnanz). In the created viz, having names inscribed in the bars makes comparison easier.\n",
    "- The additional ordering from high to low makes understanding differences between close ranges quite straightforward as compared to the 538viz.\n",
    "- The created viz also does not challenge any other visual limitations given the simplistic approach being adopted."
   ]
  },
  {
   "cell_type": "code",
   "execution_count": null,
   "metadata": {},
   "outputs": [],
   "source": []
  }
 ],
 "metadata": {
  "kernelspec": {
   "display_name": "Python 3",
   "language": "python",
   "name": "python3"
  },
  "language_info": {
   "codemirror_mode": {
    "name": "ipython",
    "version": 3
   },
   "file_extension": ".py",
   "mimetype": "text/x-python",
   "name": "python",
   "nbconvert_exporter": "python",
   "pygments_lexer": "ipython3",
   "version": "3.7.3"
  }
 },
 "nbformat": 4,
 "nbformat_minor": 2
}
